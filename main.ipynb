{
 "cells": [
  {
   "cell_type": "code",
   "execution_count": 1,
   "metadata": {},
   "outputs": [],
   "source": [
    "import numpy as np\n",
    "import pandas as pd\n",
    "import cv2\n",
    "from keras.models import Sequential"
   ]
  },
  {
   "cell_type": "code",
   "execution_count": 25,
   "metadata": {},
   "outputs": [],
   "source": [
    "use_cache = 1\n",
    "dataset_path = r'../Distracted-Driver-Detection/Dataset/'"
   ]
  },
  {
   "cell_type": "code",
   "execution_count": 2,
   "metadata": {},
   "outputs": [],
   "source": [
    "def get_im_cv2(path):\n",
    "    img = cv2.imread(path)\n",
    "    resized = cv2.resize(src=img, dsize=(224, 224), interpolation=cv2.INTER_LINEAR)\n",
    "    return resized"
   ]
  },
  {
   "cell_type": "code",
   "execution_count": 20,
   "metadata": {},
   "outputs": [],
   "source": [
    "def load_train():\n",
    "    df = pd.read_csv(dataset_path + 'auc.distracted.driver.train.csv')\n",
    "    x = df.iloc[:,0]\n",
    "    y = df.iloc[:,1]\n",
    "    X_train = []\n",
    "    Y_train = []\n",
    "    print('Read train images')\n",
    "    for i in range (0,len(x)):\n",
    "        fl= dataset_path + r'v1_cam1_no_split/' + r'/'.join(x[i].split('/')[-2:])\n",
    "        print(fl)\n",
    "        img = get_im_cv2(fl)\n",
    "        X_train.append(img)\n",
    "        Y_train.append(y[i])\n",
    "    return X_train, Y_train"
   ]
  },
  {
   "cell_type": "code",
   "execution_count": 27,
   "metadata": {},
   "outputs": [],
   "source": [
    "def load_valid():\n",
    "    df = pd.read_csv(dataset_path + 'auc.distracted.driver.test.csv')\n",
    "    x = df.iloc[:,0]\n",
    "    y = df.iloc[:,1]\n",
    "    X_valid = []\n",
    "    Y_valid = []\n",
    "    print('Read test images')\n",
    "    for i in range (0,len(x)):\n",
    "        fl = dataset_path + r'v1_cam1_no_split/' + r'/'.join(x[i].split('/')[-2:])\n",
    "        print(fl)\n",
    "        img = get_im_cv2(fl)\n",
    "        X_valid.append(img)\n",
    "        Y_valid.append(y[i])\n",
    "    return X_valid, Y_valid"
   ]
  },
  {
   "cell_type": "code",
   "execution_count": null,
   "metadata": {},
   "outputs": [],
   "source": [
    "X_valid, Y_valid = load_valid()"
   ]
  }
 ],
 "metadata": {
  "kernelspec": {
   "display_name": "Python 3",
   "language": "python",
   "name": "python3"
  },
  "language_info": {
   "codemirror_mode": {
    "name": "ipython",
    "version": 3
   },
   "file_extension": ".py",
   "mimetype": "text/x-python",
   "name": "python",
   "nbconvert_exporter": "python",
   "pygments_lexer": "ipython3",
   "version": "3.10.9"
  }
 },
 "nbformat": 4,
 "nbformat_minor": 2
}
