{
 "cells": [
  {
   "cell_type": "code",
   "execution_count": null,
   "metadata": {},
   "outputs": [],
   "source": [
    "import tensorflow as tf\n",
    "from tensorflow.keras.preprocessing import image_dataset_from_directory"
   ]
  },
  {
   "cell_type": "code",
   "execution_count": null,
   "metadata": {},
   "outputs": [],
   "source": [
    "# Define the paths to the train and test directories\n",
    "train_dir = r'../Dataset/v2_cam1_cam2/Camera 1/train'\n",
    "test_dir = r'../Dataset/v2_cam1_cam2/Camera 1/test'\n",
    "\n",
    "# Load the datasets\n",
    "batch_size = 32\n",
    "img_height = 224\n",
    "img_width = 224\n",
    "\n",
    "train_dataset = image_dataset_from_directory(\n",
    "    train_dir,\n",
    "    # validation_split=0.2,  # Split 20% of training data as validation\n",
    "    # subset=\"training\",\n",
    "    seed=123,  # Seed for reproducibility\n",
    "    image_size=(img_height, img_width),\n",
    "    batch_size=batch_size)\n",
    "\n",
    "test_dataset = image_dataset_from_directory(\n",
    "    test_dir,\n",
    "    # validation_split=0.2,\n",
    "    # subset=\"validation\",\n",
    "    seed=123,\n",
    "    image_size=(img_height, img_width),\n",
    "    batch_size=batch_size)\n",
    "\n",
    "# validation_dataset = test_dataset\n",
    "\n",
    "# Configure the dataset for performance\n",
    "AUTOTUNE = tf.data.AUTOTUNE\n",
    "\n",
    "train_dataset = train_dataset.cache().shuffle(5000).prefetch(buffer_size=AUTOTUNE)\n",
    "test_dataset = test_dataset.prefetch(buffer_size=AUTOTUNE)\n",
    "\n",
    "# Example of data augmentation\n",
    "# data_augmentation = tf.keras.Sequential([\n",
    "#   tf.keras.layers.RandomFlip('horizontal'),\n",
    "#   tf.keras.layers.RandomRotation(0.2),\n",
    "# ])\n",
    "\n",
    "# # Apply data augmentation to the training dataset\n",
    "# train_dataset = train_dataset.map(lambda x, y: (data_augmentation(x, training=True), y))"
   ]
  }
 ],
 "metadata": {
  "language_info": {
   "name": "python"
  }
 },
 "nbformat": 4,
 "nbformat_minor": 2
}
